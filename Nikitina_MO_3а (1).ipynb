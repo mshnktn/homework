{
  "nbformat": 4,
  "nbformat_minor": 0,
  "metadata": {
    "kernelspec": {
      "display_name": "Python 3 (ipykernel)",
      "language": "python",
      "name": "python3"
    },
    "language_info": {
      "codemirror_mode": {
        "name": "ipython",
        "version": 3
      },
      "file_extension": ".py",
      "mimetype": "text/x-python",
      "name": "python",
      "nbconvert_exporter": "python",
      "pygments_lexer": "ipython3",
      "version": "3.8.6"
    },
    "colab": {
      "name": "Nikitina_MO_3а.ipynb",
      "provenance": [],
      "collapsed_sections": []
    }
  },
  "cells": [
    {
      "cell_type": "markdown",
      "metadata": {
        "id": "A3posBit_v77"
      },
      "source": [
        "# Домашнее задание №2 ( балла)\n",
        "\n",
        "## дедлайн 7 октября 18:10\n",
        "### 10 или 9 можно получить, если сдать домашнее задание полностью до 3 октября 23:59, а также верно выполнить задания со звездочками\n",
        "\n",
        "\n",
        "Цель:\n",
        "\n",
        "Отработать навыки работы с основными типами данных в Python.\n",
        "Отработать навыки работы с основными структурами данных в Python."
      ]
    },
    {
      "cell_type": "markdown",
      "metadata": {
        "id": "V3_p-c6m_v78"
      },
      "source": [
        "**NB!** Задания необходимо выполнять таким образом, что переменную/-ые можно было заменить на схожее слово/число/текст/список/и т.д., при этом задание все равно выполнялось бы верно."
      ]
    },
    {
      "cell_type": "markdown",
      "metadata": {
        "id": "5IHy3DUz_v8G"
      },
      "source": [
        "### Часть 1. Списки (16 баллов)"
      ]
    },
    {
      "cell_type": "markdown",
      "metadata": {
        "id": "LF37caBG_v8G"
      },
      "source": [
        "1. (2 балла) Пользователь вводит несколько чисел через запятую. Сделайте из этих чисел список, подсчитайте сумму элементов, среднее, максимальное и минимальное значение. Все результаты подсчетов выведите на экран"
      ]
    },
    {
      "cell_type": "code",
      "metadata": {
        "id": "-LK-7l2V_v8G",
        "colab": {
          "base_uri": "https://localhost:8080/"
        },
        "outputId": "c9dfee3d-9058-49b5-c6ff-c191184b83dd"
      },
      "source": [
        "nums = list(map(int, input().split(', ')))\n",
        "print('sum = ', sum(nums))\n",
        "print('avg = ', sum(nums) / len(nums))\n",
        "print('max = ', max(nums))\n",
        "print('min = ', min(nums))\n",
        "\n",
        "    \n",
        "\n"
      ],
      "execution_count": null,
      "outputs": [
        {
          "output_type": "stream",
          "name": "stdout",
          "text": [
            "1, 2, 3\n",
            "sum =  6\n",
            "avg =  2.0\n",
            "max =  3\n",
            "min =  1\n"
          ]
        }
      ]
    },
    {
      "cell_type": "markdown",
      "metadata": {
        "id": "KLUTNmQk_v8G"
      },
      "source": [
        "2. (2 балла) Даны два списка. \"Слить\" их через один (чередуя элементы то одного, то другого списка).\n",
        "\n",
        "`f = [1,2,3]`\n",
        "\n",
        "`s = ['1','2','3']`\n",
        "\n",
        "Ожидаемый результат:\n",
        "\n",
        "`[1, '1', 2, '2', 3, '3']`\n"
      ]
    },
    {
      "cell_type": "markdown",
      "metadata": {
        "id": "1be1P1k5_v8H"
      },
      "source": [
        "* _Список может быть любого размера (но они могут быть одинаковые), а ваш код все равно должен работать._\n",
        "* _можно заработать + 2 балла к заданию, если сделать его в одну строку_"
      ]
    },
    {
      "cell_type": "code",
      "metadata": {
        "id": "y1VqZ_7P_v8H",
        "colab": {
          "base_uri": "https://localhost:8080/"
        },
        "outputId": "c0563416-f7ee-4f5c-8b5b-13240d35844e"
      },
      "source": [
        "f = [1,2,3,]\n",
        "s = ['1','2','3']\n",
        "\n",
        "ans = []\n",
        "\n",
        "for i in range(max(len(s), len(f))):\n",
        " if i < len(f):\n",
        "  ans.append(f[i])\n",
        " if i < len(s):\n",
        "  ans.append(s[i])\n",
        "\n",
        "print(ans)"
      ],
      "execution_count": null,
      "outputs": [
        {
          "output_type": "stream",
          "name": "stdout",
          "text": [
            "[1, '1', 2, '2', 3, '3']\n"
          ]
        }
      ]
    },
    {
      "cell_type": "markdown",
      "metadata": {
        "id": "wAsDtE_0_v8H"
      },
      "source": [
        "3. (4 балла) Создайте следующий лист: \n",
        "\n",
        "`months = [\n",
        "'Декабрь', 'Январь', 'Февраль',\n",
        "'Март', 'Апрель', 'Май',\n",
        "'Июнь', 'Июль', 'Август',\n",
        "'Сентябрь', 'Октябрь', 'Ноябрь'\n",
        "]`. \n",
        "\n",
        "Ваша задача получить из него:\n",
        "    - все зимние месяцы\n",
        "    - все летние месяцы\n",
        "    - каждый второй месяц года начиная с Января\n",
        "    - первые месяцы каждого сезона (4),\n",
        "\n",
        "используя `slice`."
      ]
    },
    {
      "cell_type": "code",
      "metadata": {
        "id": "ol-aAzBb_v8H",
        "colab": {
          "base_uri": "https://localhost:8080/"
        },
        "outputId": "55191c98-4eb3-4af2-fe86-a30b721d19b1"
      },
      "source": [
        "# your code here\n",
        "months = ['Декабрь', 'Январь', 'Февраль', 'Март', 'Апрель', 'Май', 'Июнь', 'Июль', 'Август', 'Сентябрь', 'Октябрь', 'Ноябрь' ]\n",
        "\n",
        "print(months[:3]) \n",
        "print(months[6:9])\n",
        "print(months[1::2])\n",
        "print(months[::3])\n"
      ],
      "execution_count": 4,
      "outputs": [
        {
          "output_type": "stream",
          "name": "stdout",
          "text": [
            "['Декабрь', 'Январь', 'Февраль']\n",
            "['Июнь', 'Июль', 'Август']\n",
            "['Январь', 'Март', 'Май', 'Июль', 'Сентябрь', 'Ноябрь']\n",
            "['Декабрь', 'Март', 'Июнь', 'Сентябрь']\n"
          ]
        }
      ]
    },
    {
      "cell_type": "markdown",
      "metadata": {
        "id": "dyFDN1th_v8H"
      },
      "source": [
        "4. (3 балла) Создайте list \n",
        "\n",
        "`weekdays = ['Понедельник', 2, 'Cреда', 'Четверг', 5]`\n",
        "\n",
        "- Исправьте числа 2 и 5 на Вторник и Пятницу соответственно\n",
        "- Добавьте недостающие дни в конец списка\n",
        "- Посчитайте длину итогового листа"
      ]
    },
    {
      "cell_type": "code",
      "metadata": {
        "id": "mpUCmwn4_v8H",
        "colab": {
          "base_uri": "https://localhost:8080/"
        },
        "outputId": "dcf835cd-7789-4338-afb0-cb9dc316fa77"
      },
      "source": [
        "# your code here\n",
        "weekdays = ['Понедельник', 2, 'Cреда', 'Четверг', 5]\n",
        "print(weekdays)\n",
        "weekdays[1] = \"вторник\"\n",
        "weekdays[4] = \"пятница\"\n",
        "print(weekdays)\n",
        "weekend = ['Суббота','Воскресенье']\n",
        "all = (weekdays+weekend)\n",
        "print(weekdays+weekend)\n",
        "len(all)\n",
        "\n"
      ],
      "execution_count": 22,
      "outputs": [
        {
          "output_type": "stream",
          "name": "stdout",
          "text": [
            "['Понедельник', 2, 'Cреда', 'Четверг', 5]\n",
            "['Понедельник', 'вторник', 'Cреда', 'Четверг', 'пятница']\n",
            "['Понедельник', 'вторник', 'Cреда', 'Четверг', 'пятница', 'Суббота', 'Воскресенье']\n"
          ]
        },
        {
          "output_type": "execute_result",
          "data": {
            "text/plain": [
              "7"
            ]
          },
          "metadata": {},
          "execution_count": 22
        }
      ]
    },
    {
      "cell_type": "markdown",
      "metadata": {
        "id": "sX7Pyq8d_v8H"
      },
      "source": [
        "5. (3 балла) Создайте строку (str) `'йтцыу фочтмлзирчйнбою асапырйафвялгяшещшоьрскяу!й'`\n",
        "\n",
        "    - Превратите ее в лист символов\n",
        "    - Расшифруйте закодированное в ней сообщение, выбрав из всех символов только символы с **нечетным** индексом\n",
        "    - Превратите полученный лист обратно в строку и напечатайте результат\n",
        "\n",
        "**Hint** вам понадобится функция `.join()`"
      ]
    },
    {
      "cell_type": "code",
      "metadata": {
        "id": "fJozshnzC69S",
        "colab": {
          "base_uri": "https://localhost:8080/",
          "height": 35
        },
        "outputId": "a9a05f4b-3f04-4f7d-8d78-b72b94ad35e4"
      },
      "source": [
        "# your code here\n",
        "S1 = 'йтцыу фочтмлзирчйнбою асапырйафвялгяшещшоьрскяу!й'\n",
        "S1 = list(S1)\n",
        "S1 = S1[1::2]\n",
        "str1 = ''.join(S1)\n",
        "str1\n",
        "\n"
      ],
      "execution_count": 11,
      "outputs": [
        {
          "output_type": "execute_result",
          "data": {
            "application/vnd.google.colaboratory.intrinsic+json": {
              "type": "string"
            },
            "text/plain": [
              "'ты отлично справляешься!'"
            ]
          },
          "metadata": {},
          "execution_count": 11
        }
      ]
    },
    {
      "cell_type": "markdown",
      "metadata": {
        "id": "hI1vaX97DLgo"
      },
      "source": [
        "6. (2 балла) Дан список (придумайте любой и положите в переменную `my_list`, `input()` использовать не нужно). Проверить, содержит ли данный список повторяющиеся элементы, удалить повторяющиеся элементы (без использования `dict` и `set`)"
      ]
    },
    {
      "cell_type": "code",
      "metadata": {
        "id": "c4_1mkhp_v8H",
        "colab": {
          "base_uri": "https://localhost:8080/",
          "height": 232
        },
        "outputId": "153ad05e-2e31-42c3-806b-d5dda74b7ced"
      },
      "source": [
        "# your code here\n",
        "a = [3,4, 5, 5,5,3]\n",
        "for i in a:\n",
        "  if  a.count(i) != 1:\n",
        "    for j in range(a.count(i)-1):\n",
        "      a = a.pop(i)\n",
        "print(a)"
      ],
      "execution_count": 18,
      "outputs": [
        {
          "output_type": "error",
          "ename": "AttributeError",
          "evalue": "ignored",
          "traceback": [
            "\u001b[0;31m---------------------------------------------------------------------------\u001b[0m",
            "\u001b[0;31mAttributeError\u001b[0m                            Traceback (most recent call last)",
            "\u001b[0;32m<ipython-input-18-00297fa1c689>\u001b[0m in \u001b[0;36m<module>\u001b[0;34m()\u001b[0m\n\u001b[1;32m      2\u001b[0m \u001b[0ma\u001b[0m \u001b[0;34m=\u001b[0m \u001b[0;34m[\u001b[0m\u001b[0;36m3\u001b[0m\u001b[0;34m,\u001b[0m\u001b[0;36m4\u001b[0m\u001b[0;34m,\u001b[0m \u001b[0;36m5\u001b[0m\u001b[0;34m,\u001b[0m \u001b[0;36m5\u001b[0m\u001b[0;34m,\u001b[0m\u001b[0;36m5\u001b[0m\u001b[0;34m,\u001b[0m\u001b[0;36m3\u001b[0m\u001b[0;34m]\u001b[0m\u001b[0;34m\u001b[0m\u001b[0;34m\u001b[0m\u001b[0m\n\u001b[1;32m      3\u001b[0m \u001b[0;32mfor\u001b[0m \u001b[0mi\u001b[0m \u001b[0;32min\u001b[0m \u001b[0ma\u001b[0m\u001b[0;34m:\u001b[0m\u001b[0;34m\u001b[0m\u001b[0;34m\u001b[0m\u001b[0m\n\u001b[0;32m----> 4\u001b[0;31m   \u001b[0;32mif\u001b[0m  \u001b[0ma\u001b[0m\u001b[0;34m.\u001b[0m\u001b[0mcount\u001b[0m\u001b[0;34m(\u001b[0m\u001b[0mi\u001b[0m\u001b[0;34m)\u001b[0m \u001b[0;34m!=\u001b[0m \u001b[0;36m1\u001b[0m\u001b[0;34m:\u001b[0m\u001b[0;34m\u001b[0m\u001b[0;34m\u001b[0m\u001b[0m\n\u001b[0m\u001b[1;32m      5\u001b[0m     \u001b[0;32mfor\u001b[0m \u001b[0mj\u001b[0m \u001b[0;32min\u001b[0m \u001b[0mrange\u001b[0m\u001b[0;34m(\u001b[0m\u001b[0ma\u001b[0m\u001b[0;34m.\u001b[0m\u001b[0mcount\u001b[0m\u001b[0;34m(\u001b[0m\u001b[0mi\u001b[0m\u001b[0;34m)\u001b[0m\u001b[0;34m-\u001b[0m\u001b[0;36m1\u001b[0m\u001b[0;34m)\u001b[0m\u001b[0;34m:\u001b[0m\u001b[0;34m\u001b[0m\u001b[0;34m\u001b[0m\u001b[0m\n\u001b[1;32m      6\u001b[0m       \u001b[0ma\u001b[0m \u001b[0;34m=\u001b[0m \u001b[0ma\u001b[0m\u001b[0;34m.\u001b[0m\u001b[0mpop\u001b[0m\u001b[0;34m(\u001b[0m\u001b[0mi\u001b[0m\u001b[0;34m)\u001b[0m\u001b[0;34m\u001b[0m\u001b[0;34m\u001b[0m\u001b[0m\n",
            "\u001b[0;31mAttributeError\u001b[0m: 'int' object has no attribute 'count'"
          ]
        }
      ]
    },
    {
      "cell_type": "markdown",
      "metadata": {
        "id": "nSJWKkvq_v8I"
      },
      "source": [
        "### Часть 2. Кортежи (3 балла)"
      ]
    },
    {
      "cell_type": "markdown",
      "metadata": {
        "id": "hFX4GTq1_v8I"
      },
      "source": [
        "29. (1 балл) Создать кортеж из одного элемента."
      ]
    },
    {
      "cell_type": "code",
      "metadata": {
        "id": "_qcdWtzz_v8I",
        "colab": {
          "base_uri": "https://localhost:8080/"
        },
        "outputId": "76c060c4-a049-462e-8ec9-c3c9ad133c3e"
      },
      "source": [
        "# your code here\n",
        "a = 's'\n",
        "a = tuple(a)\n",
        "type(a)"
      ],
      "execution_count": 21,
      "outputs": [
        {
          "output_type": "execute_result",
          "data": {
            "text/plain": [
              "tuple"
            ]
          },
          "metadata": {},
          "execution_count": 21
        }
      ]
    },
    {
      "cell_type": "markdown",
      "metadata": {
        "id": "WFrsJtZr_v8I"
      },
      "source": [
        "30. (1 балл) Создайте кортеж из списка, напечатайте его.\n",
        "\n",
        "`months = [\n",
        "'Январь', 'Февраль',\n",
        "'Март', 'Апрель', 'Май',\n",
        "'Июнь', 'Июль', 'Август',\n",
        "'Сентябрь', 'Октябрь', 'Ноябрь'\n",
        "]`"
      ]
    },
    {
      "cell_type": "code",
      "metadata": {
        "id": "1zL4nMN4_v8I",
        "colab": {
          "base_uri": "https://localhost:8080/"
        },
        "outputId": "d8fc4563-9204-4abf-fc89-635017909b88"
      },
      "source": [
        "# your code here\n",
        "months = [ 'Январь', 'Февраль', 'Март', 'Апрель', 'Май', 'Июнь', 'Июль', 'Август', 'Сентябрь', 'Октябрь', 'Ноябрь' ]\n",
        "print(tuple(months))\n"
      ],
      "execution_count": 33,
      "outputs": [
        {
          "output_type": "stream",
          "name": "stdout",
          "text": [
            "('Январь', 'Февраль', 'Март', 'Апрель', 'Май', 'Июнь', 'Июль', 'Август', 'Сентябрь', 'Октябрь', 'Ноябрь')\n"
          ]
        }
      ]
    },
    {
      "cell_type": "markdown",
      "metadata": {
        "id": "iGn7e0Ow_v8I"
      },
      "source": [
        "31. (1 балл) Добавьте недостающий месяц (на выходе ожидается кортеж)"
      ]
    },
    {
      "cell_type": "code",
      "metadata": {
        "id": "ZdD0BuYU_v8I",
        "colab": {
          "base_uri": "https://localhost:8080/"
        },
        "outputId": "2f38ec21-6e7e-45dd-a10b-f0b266afcbba"
      },
      "source": [
        "# your code here\n",
        "months = [ 'Январь', 'Февраль', 'Март', 'Апрель', 'Май', 'Июнь', 'Июль', 'Август', 'Сентябрь', 'Октябрь', 'Ноябрь' ]\n",
        "last = 'Декабрь'\n",
        "months.append(last)\n",
        "print(tuple(months))\n"
      ],
      "execution_count": 28,
      "outputs": [
        {
          "output_type": "stream",
          "name": "stdout",
          "text": [
            "('Январь', 'Февраль', 'Март', 'Апрель', 'Май', 'Июнь', 'Июль', 'Август', 'Сентябрь', 'Октябрь', 'Ноябрь', 'Декабрь')\n"
          ]
        }
      ]
    },
    {
      "cell_type": "markdown",
      "metadata": {
        "id": "netCKvWK_v8I"
      },
      "source": [
        "### Часть 3. Сеты (4 балла)"
      ]
    },
    {
      "cell_type": "markdown",
      "metadata": {
        "id": "vmpZWO8Z_v8I"
      },
      "source": [
        "32. (1 балл) Посчитать, сколько различных букв в слове 'превысокомногорассмотрительствующий'"
      ]
    },
    {
      "cell_type": "code",
      "metadata": {
        "id": "IUBHgO78_v8J",
        "colab": {
          "base_uri": "https://localhost:8080/"
        },
        "outputId": "1b715ed2-79dd-4ac3-feff-ab4dbb6cf9c5"
      },
      "source": [
        "# your code here\n",
        "abra = 'превысокомногорассмотрительствующий'\n",
        "set_abra = set(abra)\n",
        "print(len(set_abra))"
      ],
      "execution_count": null,
      "outputs": [
        {
          "output_type": "stream",
          "name": "stdout",
          "text": [
            "20\n"
          ]
        }
      ]
    },
    {
      "cell_type": "markdown",
      "metadata": {
        "id": "EtPaMLQO_v8J"
      },
      "source": [
        "33. (1 балл) Какие различные буквы имеют слова \"превысокомногорассмотрительствующий\" и \"водогрязеторфопарафинолечение\"?"
      ]
    },
    {
      "cell_type": "code",
      "metadata": {
        "id": "dwIdysLu_v8J",
        "colab": {
          "base_uri": "https://localhost:8080/"
        },
        "outputId": "4ce2e8b3-b79c-4398-d27f-908830f365eb"
      },
      "source": [
        "# your code here\n",
        "a = set('превысокомногорассмотрительствующий')\n",
        "b = set('водогрязеторфопарафинолечение')\n",
        "a.intersection(b)"
      ],
      "execution_count": 29,
      "outputs": [
        {
          "output_type": "execute_result",
          "data": {
            "text/plain": [
              "{'а', 'в', 'г', 'е', 'и', 'л', 'н', 'о', 'п', 'р', 'т'}"
            ]
          },
          "metadata": {},
          "execution_count": 29
        }
      ]
    },
    {
      "cell_type": "markdown",
      "metadata": {
        "id": "UQxsVL3w_v8J"
      },
      "source": [
        "34. (1 балл) Какие общие буквы имеют слова \"превысокомногорассмотрительствующий\" и \"водогрязеторфопарафинолечение\"?"
      ]
    },
    {
      "cell_type": "code",
      "metadata": {
        "id": "unSFfV_a_v8J",
        "colab": {
          "base_uri": "https://localhost:8080/"
        },
        "outputId": "67d3f110-0985-4c14-8419-613a37cf8e41"
      },
      "source": [
        "# your code here\n",
        "a = set('превысокомногорассмотрительствующий')\n",
        "b = set('водогрязеторфопарафинолечение')\n",
        "a.intersection(b)"
      ],
      "execution_count": null,
      "outputs": [
        {
          "output_type": "execute_result",
          "data": {
            "text/plain": [
              "{'а', 'в', 'г', 'е', 'и', 'л', 'н', 'о', 'п', 'р', 'т'}"
            ]
          },
          "metadata": {},
          "execution_count": 6
        }
      ]
    },
    {
      "cell_type": "markdown",
      "metadata": {
        "id": "GauGi3oF_v8J"
      },
      "source": [
        "35. (1 балл) Есть ли буквы в слове \"превысокомногорассмотрительствующий\", которых нет в слове \"водогрязеторфопарафинолечение\"? А наоборот?"
      ]
    },
    {
      "cell_type": "code",
      "metadata": {
        "id": "TfTtSHFY_v8J",
        "colab": {
          "base_uri": "https://localhost:8080/"
        },
        "outputId": "d5812053-a765-4f64-9914-18862fb0f30a"
      },
      "source": [
        "# your code here\n",
        "a = set('превысокомногорассмотрительствующий')\n",
        "b = set('водогрязеторфопарафинолечение')\n",
        "print(a-b)\n",
        "print(b-a)\n"
      ],
      "execution_count": null,
      "outputs": [
        {
          "output_type": "stream",
          "name": "stdout",
          "text": [
            "{'у', 'щ', 'ю', 'й', 'с', 'ы', 'к', 'м', 'ь'}\n",
            "{'ф', 'д', 'з', 'ч', 'я'}\n"
          ]
        }
      ]
    },
    {
      "cell_type": "markdown",
      "metadata": {
        "id": "E2sczfkn_v8J"
      },
      "source": [
        "### Часть 6. Словари и полезные вещи (10 баллов)"
      ]
    },
    {
      "cell_type": "markdown",
      "metadata": {
        "id": "VxZ4E8JhEHxD"
      },
      "source": [
        "Дан текст. Текст приведен к начальной форме уже за вас (мы это научимся делать на следующем занятии).\n",
        "```\n",
        "1. DJ Khaled замутить трек, в который читать только Drake. \n",
        "2. Drake организовывать на этот песня очень крутой клип, в который вместо он сниматься только джастин бибер.\n",
        "\n",
        "видимо, награда за весь это быть получать леонардо дикаприо 😅\n",
        "\n",
        "в клип джастин, кстати, выглядеть очень бодрый и наконец выздоравливать от болезнь и депрессия.\n",
        "отдельный прикол в то, что он там «читать» строчка про свой бывший девушка селен гомес, про себя сам и про то, насколько дрейк - крутой они все и взрывать индустрия 😂🤟\n",
        "```"
      ]
    },
    {
      "cell_type": "markdown",
      "metadata": {
        "id": "hGBIV3hS_v8K"
      },
      "source": [
        "36. (1 балл) Запишите его в переменную. Обратите внимание, что текст многострочный -- переносы строки нужно сохранить!"
      ]
    },
    {
      "cell_type": "code",
      "metadata": {
        "id": "BLB2YgyY_v8K",
        "colab": {
          "base_uri": "https://localhost:8080/"
        },
        "outputId": "83b8c050-c55b-466e-c7e6-23cc6d7d7e4d"
      },
      "source": [
        "# your code here\n",
        "x=(\"1. DJ Khaled замутить трек, в который читать только Drake. \\n 2. Drake организовывать на этот песня очень крутой клип, в который вместо он сниматься только джастин бибер.\\n \\n видимо, награда за весь это быть получать леонардо дикаприо 😅 \\n\\n в клип джастин, кстати, выглядеть очень бодрый и наконец выздоравливать от болезнь и депрессия.\\n отдельный прикол в то, что он там «читать» строчка про свой бывший девушка селен гомес, про себя сам и про то, насколько дрейк - крутой они все и взрывать индустрия 😂🤟\")\n",
        "print (x)"
      ],
      "execution_count": null,
      "outputs": [
        {
          "output_type": "stream",
          "name": "stdout",
          "text": [
            "1. DJ Khaled замутить трек, в который читать только Drake. \n",
            " 2. Drake организовывать на этот песня очень крутой клип, в который вместо он сниматься только джастин бибер.\n",
            " \n",
            " видимо, награда за весь это быть получать леонардо дикаприо 😅 \n",
            "\n",
            " в клип джастин, кстати, выглядеть очень бодрый и наконец выздоравливать от болезнь и депрессия.\n",
            " отдельный прикол в то, что он там «читать» строчка про свой бывший девушка селен гомес, про себя сам и про то, насколько дрейк - крутой они все и взрывать индустрия 😂🤟\n"
          ]
        }
      ]
    },
    {
      "cell_type": "markdown",
      "metadata": {
        "id": "Z2529Ids_v8K"
      },
      "source": [
        "37. (1 балл) Разделите текст на предложения (только при помощи `\"\\n\"`)"
      ]
    },
    {
      "cell_type": "code",
      "metadata": {
        "id": "DWR1Ckig_v8K",
        "colab": {
          "base_uri": "https://localhost:8080/"
        },
        "outputId": "f8c4acbd-ecae-4c43-e8ff-2bfe93253446"
      },
      "source": [
        "# your code here\n",
        "text ='1. DJ Khaled замутить трек, в «читать» строчка про который читать только Drake.\\n2. Drake организовывать на этот песня очень крутой клип, в который вместо он сниматься только джастин бибер.'\n",
        "sentences = text.split('\\n')\n",
        "sentences"
      ],
      "execution_count": null,
      "outputs": [
        {
          "output_type": "execute_result",
          "data": {
            "text/plain": [
              "['1. DJ Khaled замутить трек, в «читать» строчка про который читать только Drake.',\n",
              " '2. Drake организовывать на этот песня очень крутой клип, в который вместо он сниматься только джастин бибер.']"
            ]
          },
          "metadata": {},
          "execution_count": 35
        }
      ]
    },
    {
      "cell_type": "markdown",
      "metadata": {
        "id": "pa1_7zAS_v8K"
      },
      "source": [
        "38. (2 балла) Разделите предложения на слова, удалите пунктуацию до и после слов, используя `.strip()`. И кавычки тоже удалите."
      ]
    },
    {
      "cell_type": "code",
      "metadata": {
        "id": "Fj0ZPwO1_v8K",
        "colab": {
          "base_uri": "https://localhost:8080/"
        },
        "outputId": "0ff3c3e1-79a3-43e2-d880-12eca919f2e3"
      },
      "source": [
        "# your code here\n",
        "from string import punctuation\n",
        "punct = \",.«»\"\n",
        "\n",
        "sentences_with_words = []\n",
        "\n",
        "for sentence in sentences:\n",
        "    sentences_with_words.append([i.strip(punct) for i in sentence.split()])\n",
        "\n",
        "sentences_with_words"
      ],
      "execution_count": null,
      "outputs": [
        {
          "output_type": "execute_result",
          "data": {
            "text/plain": [
              "[['1',\n",
              "  'DJ',\n",
              "  'Khaled',\n",
              "  'замутить',\n",
              "  'трек',\n",
              "  'в',\n",
              "  'читать',\n",
              "  'строчка',\n",
              "  'про',\n",
              "  'который',\n",
              "  'читать',\n",
              "  'только',\n",
              "  'Drake'],\n",
              " ['2',\n",
              "  'Drake',\n",
              "  'организовывать',\n",
              "  'на',\n",
              "  'этот',\n",
              "  'песня',\n",
              "  'очень',\n",
              "  'крутой',\n",
              "  'клип',\n",
              "  'в',\n",
              "  'который',\n",
              "  'вместо',\n",
              "  'он',\n",
              "  'сниматься',\n",
              "  'только',\n",
              "  'джастин',\n",
              "  'бибер']]"
            ]
          },
          "metadata": {},
          "execution_count": 40
        }
      ]
    },
    {
      "cell_type": "markdown",
      "metadata": {
        "id": "H6JJW1GH_v8K"
      },
      "source": [
        "39. (2 балла) Создайте словарь, в котором ключ -- слово из текста, а значение -- количество раз, сколько оно встречается во всем тексте.\n",
        "\n",
        "например:\n",
        "\n",
        "`dct = {\"go\": 1, \"went\": 2, \"gone\": 3}`\n",
        "\n",
        "Напечатайте словарь"
      ]
    },
    {
      "cell_type": "code",
      "metadata": {
        "id": "cy5_T8yM_v8L",
        "colab": {
          "base_uri": "https://localhost:8080/"
        },
        "outputId": "a1f7ba8e-5651-46ab-fffe-94ec099bd95f"
      },
      "source": [
        "# your code here\n",
        "a = 'Привет, как дела. Как погода. Как тебя зовут. Меня не зовут гулять, но зовут играть в игры, дважды. Два четыре.'\n",
        "\n",
        "a = a.replace(',', '').replace('.', '').lower()\n",
        "\n",
        "s = set(a.split(' '))\n",
        "\n",
        "ans = {i: a.count(i) for i in s}\n",
        "print(ans)"
      ],
      "execution_count": null,
      "outputs": [
        {
          "output_type": "stream",
          "name": "stdout",
          "text": [
            "{'игры': 1, 'привет': 1, 'тебя': 1, 'не': 1, 'в': 7, 'два': 2, 'дважды': 1, 'меня': 1, 'играть': 1, 'гулять': 1, 'погода': 1, 'дела': 1, 'зовут': 3, 'как': 3, 'но': 1, 'четыре': 1}\n"
          ]
        }
      ]
    },
    {
      "cell_type": "markdown",
      "metadata": {
        "id": "lCKeMfMY_v8L"
      },
      "source": [
        "40. (2 балла) Напечатайте слова, встречающиеся более 1 раза в формате `\"слово кол-во раз\"` через пробел.\n",
        "\n",
        "    * Если сможете напечатать в порядке убывания (от большего к меньшему) + 2 балла"
      ]
    },
    {
      "cell_type": "code",
      "metadata": {
        "id": "bd5BAdeu_v8L",
        "colab": {
          "base_uri": "https://localhost:8080/"
        },
        "outputId": "d7066880-246d-40e1-fd88-e00cce3a4c2e"
      },
      "source": [
        "# your code here\n",
        "a = 'Привет, как дела. Как погода. Как тебя зовут. Меня не зовут гулять, но зовут играть в игры, дважды. Два четыре.'\n",
        "\n",
        "a = a.replace(',', '').replace('.', '').lower()\n",
        "\n",
        "s = set(a.split(' '))\n",
        "\n",
        "ans = {i: a.count(i) for i in s}\n",
        "\n",
        "for i in sorted(ans):\n",
        " if ans[i] > 1:\n",
        "  print(i, \" - \", ans[i])"
      ],
      "execution_count": null,
      "outputs": [
        {
          "output_type": "stream",
          "name": "stdout",
          "text": [
            "в  -  7\n",
            "два  -  2\n",
            "зовут  -  3\n",
            "как  -  3\n"
          ]
        }
      ]
    },
    {
      "cell_type": "markdown",
      "metadata": {
        "id": "6mEkbtQk_v8M"
      },
      "source": [
        "41. (2 балла) Пользователь вводит с клавиатуры какое-нибудь слово.\n",
        "Проверяем, есть ли слово в массиве: если нет, добавляем его туда и печатаем \"Слово X добавлено\", а если есть, то печатаем ответ \"Слово X в тексте N раз\"."
      ]
    },
    {
      "cell_type": "code",
      "metadata": {
        "colab": {
          "base_uri": "https://localhost:8080/"
        },
        "id": "K02ChEBQ95-c",
        "outputId": "9c6cbe3f-4e7d-4460-e77d-d22866ba0286"
      },
      "source": [
        "words = ['привет', 'как', 'дела', 'привет']\n",
        "\n",
        "s = input()\n",
        "\n",
        "if s not in words:\n",
        " words.append(s)\n",
        " print(f'Слово {s} добавлено')\n",
        "else:\n",
        " print(f'Слово {s} в тексте {words.count(s)} раз')"
      ],
      "execution_count": null,
      "outputs": [
        {
          "output_type": "stream",
          "name": "stdout",
          "text": [
            "привет\n",
            "Слово привет в тексте 2 раз\n"
          ]
        }
      ]
    },
    {
      "cell_type": "markdown",
      "metadata": {
        "id": "YTZ_hhhBFasx"
      },
      "source": [
        "## Задания со звездочкой (9 или 10 можно получить, решив эти задания)"
      ]
    },
    {
      "cell_type": "markdown",
      "metadata": {
        "id": "159FPHDYFpk1"
      },
      "source": [
        "42. По заданному n вывести левосторонний треугольник из следующих цифр:\n"
      ]
    },
    {
      "cell_type": "code",
      "metadata": {
        "colab": {
          "base_uri": "https://localhost:8080/"
        },
        "id": "KqJoZEUIFaEd",
        "outputId": "c89d2c6a-67f2-4382-d634-e18e73824c42"
      },
      "source": [
        "# your code here"
      ],
      "execution_count": null,
      "outputs": [
        {
          "output_type": "stream",
          "name": "stdout",
          "text": [
            "0\n",
            "0 1\n",
            "0 1 2\n",
            "0 1 2 3\n",
            "0 1 2 3 4\n",
            "0 1 2 3 4 5\n",
            "0 1 2 3 4 5 6\n",
            "0 1 2 3 4 5 6 7\n",
            "0 1 2 3 4 5 6 7 8\n",
            "0 1 2 3 4 5 6 7 8 9\n"
          ]
        }
      ]
    },
    {
      "cell_type": "code",
      "metadata": {
        "colab": {
          "base_uri": "https://localhost:8080/"
        },
        "id": "CqKQKoHTiCj8",
        "outputId": "d0af96c5-d815-4843-f6cb-f67adfa8a5f5"
      },
      "source": [
        "n = 10\n",
        "\n",
        "previous = []\n",
        "\n",
        "for i in range(n):\n",
        "    previous_list = \" \".join(previous)\n",
        "    print(f'{previous_list} {str(i)}'.strip())\n",
        "    previous.append(str(i))"
      ],
      "execution_count": null,
      "outputs": [
        {
          "output_type": "stream",
          "name": "stdout",
          "text": [
            "0\n",
            "0 1\n",
            "0 1 2\n",
            "0 1 2 3\n",
            "0 1 2 3 4\n",
            "0 1 2 3 4 5\n",
            "0 1 2 3 4 5 6\n",
            "0 1 2 3 4 5 6 7\n",
            "0 1 2 3 4 5 6 7 8\n",
            "0 1 2 3 4 5 6 7 8 9\n"
          ]
        }
      ]
    },
    {
      "cell_type": "code",
      "metadata": {
        "colab": {
          "base_uri": "https://localhost:8080/"
        },
        "id": "HvPHWZzUjuas",
        "outputId": "80472a8f-4531-44f6-eb06-49ccc15cc5f2"
      },
      "source": [
        "x = [0, 5, 1]\n",
        "print(*x)\n",
        "print(x)"
      ],
      "execution_count": null,
      "outputs": [
        {
          "output_type": "stream",
          "name": "stdout",
          "text": [
            "0 5 1\n",
            "[0, 5, 1]\n"
          ]
        }
      ]
    },
    {
      "cell_type": "markdown",
      "metadata": {
        "id": "-9rUNF4-Fofe"
      },
      "source": [
        "43. По заданному n вывести перевернутый правосторонний треугольник из следующих цифр"
      ]
    },
    {
      "cell_type": "code",
      "metadata": {
        "id": "Sa7ZDOa-Fm7O",
        "colab": {
          "base_uri": "https://localhost:8080/"
        },
        "outputId": "ca044a76-5e17-4fcf-8cf3-d4ce51073680"
      },
      "source": [
        "#your code here\n",
        "n = 10\n",
        "\n",
        "previous = []\n",
        "\n",
        "for i in range(n, 0, -1):\n",
        " for j in range(i):\n",
        "  print(j, end=' ')\n",
        " print()"
      ],
      "execution_count": null,
      "outputs": [
        {
          "output_type": "stream",
          "name": "stdout",
          "text": [
            "0 1 2 3 4 5 6 7 8 9 \n",
            "0 1 2 3 4 5 6 7 8 \n",
            "0 1 2 3 4 5 6 7 \n",
            "0 1 2 3 4 5 6 \n",
            "0 1 2 3 4 5 \n",
            "0 1 2 3 4 \n",
            "0 1 2 3 \n",
            "0 1 2 \n",
            "0 1 \n",
            "0 \n"
          ]
        }
      ]
    },
    {
      "cell_type": "markdown",
      "metadata": {
        "id": "y1BSSdWe_v8N"
      },
      "source": [
        "#### Напишите ниже вашу обратную связь по домашнему заданию в комментарии. \n",
        "\n",
        "#### Какие задания показались вам самыми сложными / простыми? Что понравилось, а что нет?"
      ]
    },
    {
      "cell_type": "code",
      "metadata": {
        "id": "xciAjxQG_v8N"
      },
      "source": [
        ""
      ],
      "execution_count": null,
      "outputs": []
    }
  ]
}